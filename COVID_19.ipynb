{
  "nbformat": 4,
  "nbformat_minor": 0,
  "metadata": {
    "colab": {
      "name": "COVID-19.ipynb",
      "provenance": [],
      "collapsed_sections": [],
      "machine_shape": "hm"
    },
    "kernelspec": {
      "name": "python3",
      "display_name": "Python 3"
    },
    "accelerator": "GPU"
  },
  "cells": [
    {
      "cell_type": "markdown",
      "metadata": {
        "id": "wSe7P7aDyLLX",
        "colab_type": "text"
      },
      "source": [
        "#**Done in Google Colab**"
      ]
    },
    {
      "cell_type": "markdown",
      "metadata": {
        "id": "Qd0nxnd5X3sU",
        "colab_type": "text"
      },
      "source": [
        "Check the tensorflow version. If it is 2.x then switch to 1.x since it runs very smoothly with GPT2"
      ]
    },
    {
      "cell_type": "code",
      "metadata": {
        "id": "s5XPsKMJSKFh",
        "colab_type": "code",
        "outputId": "24bb430d-3265-4561-ee26-7895458d23ae",
        "colab": {
          "base_uri": "https://localhost:8080/",
          "height": 34
        }
      },
      "source": [
        "import tensorflow as tf \n",
        "tf.__version__"
      ],
      "execution_count": 0,
      "outputs": [
        {
          "output_type": "execute_result",
          "data": {
            "text/plain": [
              "'2.2.0-rc3'"
            ]
          },
          "metadata": {
            "tags": []
          },
          "execution_count": 3
        }
      ]
    },
    {
      "cell_type": "markdown",
      "metadata": {
        "id": "QDREBoP-X3kV",
        "colab_type": "text"
      },
      "source": [
        "So...I uninstalled tensorflow and installed tensorflow version 1.13.2"
      ]
    },
    {
      "cell_type": "code",
      "metadata": {
        "id": "BjX1q5MoSX3i",
        "colab_type": "code",
        "colab": {}
      },
      "source": [
        "!pip uninstall tensorflow "
      ],
      "execution_count": 0,
      "outputs": []
    },
    {
      "cell_type": "code",
      "metadata": {
        "id": "DQN16d8SSX6D",
        "colab_type": "code",
        "colab": {}
      },
      "source": [
        "!pip install tensorflow==1.13.2"
      ],
      "execution_count": 0,
      "outputs": []
    },
    {
      "cell_type": "markdown",
      "metadata": {
        "id": "sbQBmXtpYVXE",
        "colab_type": "text"
      },
      "source": [
        "Now I am installing GPT2.  "
      ]
    },
    {
      "cell_type": "code",
      "metadata": {
        "id": "4hqdtEM_SX8c",
        "colab_type": "code",
        "colab": {}
      },
      "source": [
        "!pip install -q gpt-2-simple\n",
        "import gpt_2_simple as gpt2\n",
        "from datetime import datetime\n",
        "from google.colab import files"
      ],
      "execution_count": 0,
      "outputs": []
    },
    {
      "cell_type": "code",
      "metadata": {
        "id": "00Qvw0TnSnde",
        "colab_type": "code",
        "colab": {}
      },
      "source": [
        "gpt2.download_gpt2(model_name=\"124M\") # installing the desired GPT2 model. "
      ],
      "execution_count": 0,
      "outputs": []
    },
    {
      "cell_type": "code",
      "metadata": {
        "id": "rn-CgxBeSnfx",
        "colab_type": "code",
        "colab": {}
      },
      "source": [
        "gpt2.mount_gdrive() # Mounting google drive"
      ],
      "execution_count": 0,
      "outputs": []
    },
    {
      "cell_type": "code",
      "metadata": {
        "id": "QK3HvbUGSnh6",
        "colab_type": "code",
        "colab": {}
      },
      "source": [
        "# the filename which contains your data \n",
        "file_name = \"dataset_for_training.csv\""
      ],
      "execution_count": 0,
      "outputs": []
    },
    {
      "cell_type": "code",
      "metadata": {
        "id": "pDkF4LWYSnkF",
        "colab_type": "code",
        "colab": {}
      },
      "source": [
        "# import gpt_2_simple as gpt2\n",
        "gpt2.copy_file_from_gdrive(file_name) # importing 'file_name' to Colaboratory  "
      ],
      "execution_count": 0,
      "outputs": []
    },
    {
      "cell_type": "markdown",
      "metadata": {
        "id": "vvOoitBDY6Rr",
        "colab_type": "text"
      },
      "source": [
        "# Training the model"
      ]
    },
    {
      "cell_type": "code",
      "metadata": {
        "id": "PVRDdOlMTMbw",
        "colab_type": "code",
        "outputId": "d3dcdcb3-6a49-49d3-def3-93be87a4fbed",
        "colab": {
          "base_uri": "https://localhost:8080/",
          "height": 1000
        }
      },
      "source": [
        "sess = gpt2.start_tf_sess()\n",
        "\n",
        "gpt2.finetune(sess,\n",
        "              dataset=file_name,\n",
        "              model_name='124M',\n",
        "              steps=200, # increase the steps to train it for longer and obtain better results \n",
        "              restore_from='fresh',\n",
        "              run_name='run1',\n",
        "              print_every=10,\n",
        "              sample_every=100,\n",
        "              save_every=100\n",
        "              )"
      ],
      "execution_count": 0,
      "outputs": [
        {
          "output_type": "stream",
          "text": [
            "WARNING:tensorflow:From /usr/local/lib/python3.6/dist-packages/tensorflow/python/framework/op_def_library.py:263: colocate_with (from tensorflow.python.framework.ops) is deprecated and will be removed in a future version.\n",
            "Instructions for updating:\n",
            "Colocations handled automatically by placer.\n",
            "WARNING:tensorflow:From /usr/local/lib/python3.6/dist-packages/tensorflow/python/ops/math_ops.py:3066: to_int32 (from tensorflow.python.ops.math_ops) is deprecated and will be removed in a future version.\n",
            "Instructions for updating:\n",
            "Use tf.cast instead.\n",
            "WARNING:tensorflow:From /usr/local/lib/python3.6/dist-packages/tensorflow/python/ops/math_grad.py:102: div (from tensorflow.python.ops.math_ops) is deprecated and will be removed in a future version.\n",
            "Instructions for updating:\n",
            "Deprecated in favor of operator or tf.math.divide.\n",
            "Loading checkpoint models/124M/model.ckpt\n",
            "WARNING:tensorflow:From /usr/local/lib/python3.6/dist-packages/tensorflow/python/training/saver.py:1266: checkpoint_exists (from tensorflow.python.training.checkpoint_management) is deprecated and will be removed in a future version.\n",
            "Instructions for updating:\n",
            "Use standard file APIs to check for files with this prefix.\n",
            "INFO:tensorflow:Restoring parameters from models/124M/model.ckpt\n"
          ],
          "name": "stdout"
        },
        {
          "output_type": "stream",
          "text": [
            "100%|██████████| 1/1 [00:00<00:00, 139.02it/s]"
          ],
          "name": "stderr"
        },
        {
          "output_type": "stream",
          "text": [
            "Loading dataset...\n"
          ],
          "name": "stdout"
        },
        {
          "output_type": "stream",
          "text": [
            "\n"
          ],
          "name": "stderr"
        },
        {
          "output_type": "stream",
          "text": [
            "dataset has 263577 tokens\n",
            "Training...\n",
            "[10 | 863.59] loss=1.05 avg=1.05\n",
            "[20 | 1665.68] loss=0.76 avg=0.90\n",
            "[30 | 2422.74] loss=0.69 avg=0.83\n",
            "[40 | 3174.23] loss=0.46 avg=0.74\n",
            "[50 | 3921.14] loss=0.44 avg=0.68\n",
            "[60 | 4685.82] loss=0.32 avg=0.62\n",
            "[70 | 5445.53] loss=0.30 avg=0.57\n",
            "[80 | 6179.62] loss=0.33 avg=0.54\n",
            "[90 | 6917.66] loss=0.42 avg=0.52\n",
            "[100 | 7664.16] loss=0.36 avg=0.51\n",
            "Saving checkpoint/run1/model-100\n",
            "======== SAMPLE 1 ========\n",
            "Oc1ccc(-c2ccc(Cc1ccc(F)cc1)cc1)cc1)S(C)(C)C1CCCCCCCCCCCCCC1(C)CCCCCC1C(C)C(CCC3CCCC3)CCCC2(C)CCC23CCCC2<|endoftext|>\n",
            "<|startoftext|>CCCC(NS(=O)(=O)c1ccccc1)C(=O)CN(CC(N)=O)C(=O)CCCC(O)CN(CCCN(O)C(=O)O)C(=O)O)C(=O)NC(Cc1ccccc1)C(O)CN(Cc1ccccc1)C(O)CC(Cc1ccccc1)C(O)CCCCCCCC(Cc1ccccc1)C(=O)NC(Cc1ccccc1)C(=O)NC(CCc1ccccc1)C(=O)O<|endoftext|>\n",
            "<|startoftext|>CCOC(=O)N(Cc1ccccc1)C(=O)CN1CCCCC1C1CC3CC(CC(C3)C1)C2C(=O)NC(Cc1ccccc1)C(=O)NC(Cc1ccccc1)C(O)C(Cc1ccccc1)NC(=O)OC1COC2OCCC12<|endoftext|>\n",
            "<|startoftext|>CNC(=O)C1CCCCCCCCCCCC1C(=O)CCCCCC(O)C(=O)NC(Cc1ccccc1)C(=O)NC(Cc1ccccc1)C(=O)NC(Cc1ccccc1)C(=O)NC(Cc1ccccc1)C(=O)O<|endoftext|>\n",
            "<|startoftext|>Cc1cccc(C(C)(C)C)c(N)c1CCC(CC(C3)C1)N(Cc3ccccc3)CC1<|endoftext|>\n",
            "<|startoftext|>CNC(=O)C1CCCC1CN(Cc2ccccc2)C(=O)OCC2CCCCC2CC1<|endoftext|>\n",
            "<|startoftext|>CC(C)(C)NC(=O)C1CCCCC1CN(Cc2ccccc2)C(=O)OCC2CCCC2C(=O)NC(C)(C)C<|endoftext|>\n",
            "<|startoftext|>CC(C)(C)NC(=O)C1CC2CCCCC2CN(Cc1ccccc1)C(=O)OCC2CCCCC2CC1<|endoftext|>\n",
            "<|startoftext|>CC(C)(C)CC(NC(=O)OC(C)(C)C)C(=O)NC(Cc1ccccc1)C(=O)NC(C)(C)C)C(C)(C)C<|endoftext|>\n",
            "<|startoftext|>O=C(O)CC(=O)NCC(c1ccccc1)C(O)CC(Cc1ccccc1)NC(=O)OC1CCCCC1<|endoftext|>\n",
            "<|startoftext|>CC(C)(C)NC(=O)C1CCCC1C(=O)CCC(O)C(O)C(Cc1ccccc1)NC(=O)OC1COC2OCCC12<|endoftext|>\n",
            "<|startoftext|>COCC(=O)N1CCN(C(=O)C(O)C(Cc2ccccc2)NC(=O)OC2CCOC2)S(=O)(=O)c1ccccc1<|endoftext|>\n",
            "<|startoftext|>CC(C)(C)CC(=O)N1CCCC1C(=O)NCC2CCCCC2C(=O)OCCC2<|endoftext|>\n",
            "<|\n",
            "\n",
            "[110 | 8494.90] loss=0.28 avg=0.49\n",
            "[120 | 9232.08] loss=0.35 avg=0.47\n",
            "[130 | 9969.55] loss=0.21 avg=0.45\n",
            "[140 | 10708.59] loss=0.27 avg=0.44\n",
            "[150 | 11455.81] loss=0.34 avg=0.43\n",
            "[160 | 12214.94] loss=0.38 avg=0.43\n",
            "[170 | 12989.08] loss=0.17 avg=0.41\n",
            "[180 | 13772.46] loss=0.29 avg=0.40\n",
            "[190 | 14561.32] loss=0.26 avg=0.39\n",
            "[200 | 15343.61] loss=0.29 avg=0.39\n",
            "Saving checkpoint/run1/model-200\n",
            "WARNING:tensorflow:From /usr/local/lib/python3.6/dist-packages/tensorflow/python/training/saver.py:966: remove_checkpoint (from tensorflow.python.training.checkpoint_management) is deprecated and will be removed in a future version.\n",
            "Instructions for updating:\n",
            "Use standard file APIs to delete files with this prefix.\n"
          ],
          "name": "stdout"
        }
      ]
    },
    {
      "cell_type": "markdown",
      "metadata": {
        "id": "CUr9wbdNZAMr",
        "colab_type": "text"
      },
      "source": [
        "# Following is the procedure for generating compounds\n",
        "\n"
      ]
    },
    {
      "cell_type": "code",
      "metadata": {
        "id": "8DyvevgOefa9",
        "colab_type": "code",
        "colab": {}
      },
      "source": [
        "gpt2.copy_checkpoint_to_gdrive(run_name='run1')"
      ],
      "execution_count": 0,
      "outputs": []
    },
    {
      "cell_type": "code",
      "metadata": {
        "id": "EcVtiBWXeHY4",
        "colab_type": "code",
        "colab": {}
      },
      "source": [
        "gpt2.copy_checkpoint_from_gdrive(run_name='run1')"
      ],
      "execution_count": 0,
      "outputs": []
    },
    {
      "cell_type": "code",
      "metadata": {
        "id": "0rVU9h1aTMeJ",
        "colab_type": "code",
        "outputId": "34448b1b-32be-4c10-e69e-01c5c31c7a0e",
        "colab": {
          "base_uri": "https://localhost:8080/",
          "height": 173
        }
      },
      "source": [
        "import gpt_2_simple as gpt2\n",
        "import tensorflow as tf\n",
        "sess = gpt2.start_tf_sess()\n",
        "gpt2.load_gpt2(sess, run_name='run1')"
      ],
      "execution_count": 0,
      "outputs": [
        {
          "output_type": "stream",
          "text": [
            "WARNING:tensorflow:From /usr/local/lib/python3.6/dist-packages/tensorflow/python/framework/op_def_library.py:263: colocate_with (from tensorflow.python.framework.ops) is deprecated and will be removed in a future version.\n",
            "Instructions for updating:\n",
            "Colocations handled automatically by placer.\n",
            "Loading checkpoint checkpoint/run1/model-200\n",
            "WARNING:tensorflow:From /usr/local/lib/python3.6/dist-packages/tensorflow/python/training/saver.py:1266: checkpoint_exists (from tensorflow.python.training.checkpoint_management) is deprecated and will be removed in a future version.\n",
            "Instructions for updating:\n",
            "Use standard file APIs to check for files with this prefix.\n",
            "INFO:tensorflow:Restoring parameters from checkpoint/run1/model-200\n"
          ],
          "name": "stdout"
        }
      ]
    },
    {
      "cell_type": "code",
      "metadata": {
        "id": "ZuEaPR5UTMgc",
        "colab_type": "code",
        "outputId": "7685bc83-fcfb-4f46-b84a-299215b5963b",
        "colab": {
          "base_uri": "https://localhost:8080/",
          "height": 289
        }
      },
      "source": [
        "# import gpt_2_simple as gpt2\n",
        "gpt2.generate(sess, run_name='run1')"
      ],
      "execution_count": 0,
      "outputs": [
        {
          "output_type": "stream",
          "text": [
            "Oc1ccc(O)c(C(=O)NC(Cc1ccccc1)C(=O)C(Cc1ccccc1)C(=O)O)cc1<|endoftext|>\n",
            "<|startoftext|>O=C(NC(Cc1ccccc1)C(=O)NC(Cc1ccccc1)C(=O)C(Cc1ccccc1)C(=O)O)c1ccccc1<|endoftext|>\n",
            "<|startoftext|>CNC(Cc1ccccc1)C(=O)NC(Cc1ccccc1)C(=O)O<|endoftext|>\n",
            "<|startoftext|>Cc1ccc(CNC(=O)C(Cc2cccc(C(=O)O)c2)C(=O)NC(Cc2ccccc2)C(=O)O)c2ccccc2)cc1<|endoftext|>\n",
            "<|startoftext|>Cc1ccccc1NC(Cc1ccccc1)C(=O)NC(Cc1ccccc1)C(=O)O<|endoftext|>\n",
            "<|startoftext|>Cc1ccc(-c2ccccc2)cc1C(=O)NC(Cc1ccccc1)C(=O)NC(Cc1ccccc1)C(=O)O<|endoftext|>\n",
            "<|startoftext|>Cc1ccc(-c2ccccc2)cc1C(=O)NC(Cc1ccccc1)C(=O)NC(Cc1ccccc1)C(=O)O<|endoftext|>\n",
            "<|startoftext|>Cc1ccc(CNC(=O)C(Cc2ccccc2)C(=O)NC(Cc2ccccc2)C(=O)O)cc1<|endoftext|>\n",
            "<|startoftext|>Cc1ccc(CNC(=O)C(Cc2ccccc2)C(=O)NC(Cc2ccccc2)C(=O)O)cc1<|endoftext|>\n",
            "<|startoftext|>Cc1ccccc1NC(Cc1ccccc1)C(=O)NC(Cc1ccccc1)C(=O)NC(Cc1ccccc1)C(=O)NC(Cc1ccccc1)C(=O)O<|endoftext|>\n",
            "<|startoftext|>COC(=O)c1ccc(NC(=O)C(Cc2ccccc2)C(=O)NC(Cc2ccccc2)C(=O)O)cc1<|endoftext|>\n",
            "<|startoftext|>Cc1ccc(CNC(=O)C1CCCC1)C(=O)NC(Cc1ccccc1)C(=O)NC(Cc1ccccc1)C(=O)NC(Cc1ccccc1)C(=O)O<|endoftext|>\n",
            "<|startoftext|>Cc1cccc(CNC(=O)C(Cc2ccccc2)C(=O)NC(Cc2ccccc2)C(=O)O)c1<|endoftext|>\n",
            "<|startoftext|>Cc1cccc(CNC(=O)C(Cc2ccccc2)C(=O)NC(Cc2ccccc2)C(=O)O)c1<|endoftext|>\n",
            "<|startoftext|>Cc1ccc(CNC(=O)C(Cc2ccccc2)C(=O)NC(Cc2ccccc2)C(=O)O)cc1<|endoftext|>\n",
            "<|startoftext|>Cc1cccc(CNC(=O)C(Cc2ccccc2)C(=O)NC(Cc2ccccc2)C(=O)\n"
          ],
          "name": "stdout"
        }
      ]
    },
    {
      "cell_type": "code",
      "metadata": {
        "id": "umJrpt8ETMib",
        "colab_type": "code",
        "outputId": "e3ec6b0a-7e7a-4c09-997e-f3e472e94c06",
        "colab": {
          "base_uri": "https://localhost:8080/",
          "height": 1000
        }
      },
      "source": [
        "gpt2.generate(sess,\n",
        "              length=250,\n",
        "              temperature=0.8,\n",
        "              prefix=\"\",\n",
        "              nsamples=50,\n",
        "              batch_size=5\n",
        "              )"
      ],
      "execution_count": 0,
      "outputs": [
        {
          "output_type": "stream",
          "text": [
            "C[=O]NC(Cc1ccccc1)NC(=O)OC1COC2OCCC12)O<|endoftext|>\n",
            "<|startoftext|>CNC(=O)C1CCCC1C(=O)NC(Cc1ccccc1)C(=O)NC(Cc1ccccc1)C(=O)NC(Cc1ccccc1)C(=O)NC(Cc1ccccc1)C(=O)NC(Cc1ccccc1)C(=O)NC(Cc1ccccc1)C(=O)O<|endoftext|>\n",
            "<|startoftext|>CC(C)(C)NC(=O)C1CCCC1C(=O)NC(Cc1ccccc1)C(=O)NC(Cc1ccccc1)C(=O)NC(Cc1ccccc1)C(=O)NC(Cc1ccccc1)C(=O)NC(\n",
            "====================\n",
            "OCC((C)Cc2ccccc2)c2ccccc2c1<|endoftext|>\n",
            "<|startoftext|>CC(C)(C)NC(=O)C1CC2CCCCC2CN1CC(O)COC2(O)C(Cc2ccccc2)C(=O)O<|endoftext|>\n",
            "<|startoftext|>CNC(=O)C(Cc1ccccc1)NC(=O)C(Cc1ccccc1)NC(=O)C(Cc1ccccc1)NC(=O)C(CC(N)=O)NC(=O)c1ccccc1<|endoftext|>\n",
            "<|startoftext|>CC(C)CN(CC(O)C(Cc1ccccc1)NC(=O)C(Cc1ccccc1)NC(=O)OC1COC2OCCC12)S(=O)(=O)c1ccc(NC(=O)\n",
            "====================\n",
            "<|startoftext|>CN(C)C(=O)C(Cc1ccccc1)NC(=O)C(Cc1ccccc1)NC(=O)OC1COC2OCCC12)S(=O)(=O)c1ccc(NC(=O)c2ccccc2)cc1<|endoftext|>\n",
            "<|startoftext|>CC(C)(C)OC(=O)N1CCOC2CC(C(=O)Nc3ccc(OC(F)(F)F)cn3)CC2)CC1C2CCC1C(=O)C(CC(C)(C)C)C<|endoftext|>\n",
            "<|startoftext|>CC(C)(C)NC(=O)C1CC2CCC(CC1CC(=O)N1CCCC1)C2CC(O)C(Cc1ccccc1)NC(=O)C1C2CC(NC(=O)C(CC(N)=O)NC(=\n",
            "====================\n",
            "C[NS(=O)(=O)c1ccccc1]C(=O)C(Cc1ccccc1)NC(=O)OC1COC2OCCC12<|endoftext|>\n",
            "<|startoftext|>CC(C)CN(CC(O)C(Cc1ccccc1)NC(=O)OC1COC2OCCC12)S(=O)(=O)c1ccc(NC(=O)C(Cc2ccccc2)C(=O)O)cc1<|endoftext|>\n",
            "<|startoftext|>CC(C)CN(CC(O)C(Cc1ccccc1)NC(=O)OC1COC2OCCC12)S(=O)(=O)c1ccc(NC(=O)C(Cc2ccccc2)C(=O)O)cc1<|endoftext|>\n",
            "<|startoftext|>CC(C)CN(CC(O)C(Cc1ccccc\n",
            "====================\n",
            "O)c1ccc(NC(=O)OC(C)(C)C)cc1<|endoftext|>\n",
            "<|startoftext|>CC(C)(C)CC(=O)N1CCCCC1CC1CCCC1C(=O)NC(Cc1ccccc1)C(=O)NC(Cc1ccccc1)C(=O)NC(Cc1ccccc1)C(=O)O<|endoftext|>\n",
            "<|startoftext|>O=C(O)C(Cc1ccccc1)NC(=O)C(Cc1ccccc1)C(=O)NC(Cc1ccccc1)C(=O)NC(Cc1ccccc1)C(=O)NC(Cc1ccccc1)C(=O)O<|endoftext|>\n",
            "<|startoftext|>Cc1cccc(NS(=O)(=O)c2ccccc2)c1C(=O)NC\n",
            "====================\n",
            "n = c1cc(C(=O)N2CCCCCC2)cn1<|endoftext|>\n",
            "<|startoftext|>CC(C)(C)NC(=O)C1CCCC(NC(=O)C(Cc2cccnc2)C(=O)NC(Cc2ccc(C(N)=O)cc2)C1<|endoftext|>\n",
            "<|startoftext|>CC(C)C(CC(=O)Nc1ccc(NC(=O)CCC(=O)OC(C)(C)C)C(=O)NC(Cc1ccccc1)C(=O)NC(Cc1ccccc1)C(=O)O)c1ccccc1<|endoftext|>\n",
            "<|startoftext|>CNC(=O)COc1ccc(NC(=O)C(Cc2ccccc2)C(=O)NC(Cc2ccccc2)C(=O)NC(Cc2\n",
            "====================\n",
            "Cc1ccc(-c2cccc(-c3ccccn3)nc2)cc1<|endoftext|>\n",
            "<|startoftext|>COCCCC(C)c1cc(C(=O)NC(C)C(=O)O)ccc1Cl<|endoftext|>\n",
            "<|startoftext|>CC(C)(C)CC(=O)N1CCCC1COC2(CCCCCC2)CC(O)C(O)CCC2(C)C<|endoftext|>\n",
            "<|startoftext|>CCCC(C)(C)CC(NC(=O)C(C)(C)C)C=O<|endoftext|>\n",
            "<|startoftext|>COc1ccc(-c2cc(CNc3ccccc3)ccc(Oc3ccc(-c4ccccc4)cc3)cc2)cc1<|endoftext|>\n",
            "<|startoftext|>O=C(NCCCC(Cc1ccccc1)\n",
            "====================\n",
            "<|startoftext|>CC(C)(C)NC(=O)C(Cc1ccc(Br)cc1)NC(=O)C(Cc1ccc(Br)cc1)NC(=O)OC1COC2OCCC12<|endoftext|>\n",
            "<|startoftext|>CC(C)(C)NC(=O)C(Cc1ccccc1)NC(=O)C(Cc1ccccc1)NC(=O)OC1COC2OCCC12<|endoftext|>\n",
            "<|startoftext|>CC(C)(C)NC(=O)C1CC2CCC(CC1CCCC1)C2CC(O)C(Cc1ccccc1)NC(=O)C(CC(N)=O)NC(=O)c1ccc(NCc2ccccc2)cc1<|endoftext|>\n",
            "<|startoftext|>CC(C)CN(CC(O)C(Cc1ccccc1)NC(\n",
            "====================\n",
            "Oc1ccc(NC(=O)C(O)c2ccccc2)cc1C(=O)NC(Cc1ccccc1)C(=O)O<|endoftext|>\n",
            "<|startoftext|>CC(C)(C)NC(=O)C1CC2CCCCC2CN1CC(O)C(Cc1ccccc1)NC(=O)OC1COC2OCCC12<|endoftext|>\n",
            "<|startoftext|>O=C(NC(Cc1ccccc1)C(=O)NC(Cc1ccccc1)C(=O)NC(Cc1ccccc1)C(=O)O)C1CC2CC(C3)C(C1)C2C(NC(=O)C(Cc2ccccc2)C(=O)O)NC(Cc1ccccc1)C(=O)O)O<|endoftext|>\n",
            "<|startoftext|>O=C(\n",
            "====================\n",
            "COCOCOCCOCCOCCC23)CN(Cc1ccccc1)C(=O)NC(Cc1ccccc1)C(=O)NC(Cc1ccccc1)C(=O)O<|endoftext|>\n",
            "<|startoftext|>CC(C)(C)NC(=O)C1CC2CC(C1)C2C(=O)NC(Cc1ccccc1)C(=O)NC(Cc1ccccc1)C(=O)NC(Cc1ccccc1)C(=O)O<|endoftext|>\n",
            "<|startoftext|>CC(C)CN(CC(O)C(Cc1ccccc1)NC(=O)C(Cc1ccccc1)NC(=O)C(Cc1ccccc1)NC(=O)OC1COC2OCCC12)S(=O)(=O)c1ccc(NC(=O)C(Cc2ccccc\n",
            "====================\n",
            "Oc1c(c2cc(C(=O)NC(C)(C)C)cc2)cc1O)cc1O<|endoftext|>\n",
            "<|startoftext|>CC(C)(C)NC(=O)C1CC2CCC(CC(C)(C)C(=O)O)C2CC(O)C(C)(C)C(C(=O)O)NC(=O)C(C)(C)C<|endoftext|>\n",
            "<|startoftext|>O=C(c1ccccc1)c1ccccc1CC1CCC1OCCO1<|endoftext|>\n",
            "<|startoftext|>CC(C)(C)NC(=O)C1CC2CCC(CC(C)(C)C(=O)O)C2CC(O)C(C(F)(F)F)NC(=O)C(CC(C)C)NC(=O)C(Cc1ccccc1)NC(=O)c1ccc(-c\n",
            "====================\n",
            "Oc1cnc(NC2CCCC2)cc1<|endoftext|>\n",
            "<|startoftext|>Cc1cccc(CN2CCCC2)cn1C(=O)C(Cc1ccccc1)NC(=O)OC1COC2OCCC12<|endoftext|>\n",
            "<|startoftext|>Cc1ccc(CNC(=O)Nc2ccc(-c3ccc(C(F)(F)F)cn3)cc2)cc1<|endoftext|>\n",
            "<|startoftext|>Cc1cc(CNC(=O)Nc2cn(C#N)ccc2C(CO)OC(O)CCC2)cc1<|endoftext|>\n",
            "<|startoftext|>Cc1ccc(C(=O)NC(Cc2ccccc2)C(=O)NC(Cc2ccccc2)C(=O)O)cc1<|endoftext|>\n",
            "<|startoftext|\n",
            "====================\n",
            "C)C(=O)NC(Cc1ccccc1)C(=O)NC(Cc1ccccc1)C(=O)NC(Cc1ccccc1)C(=O)NC(Cc1ccccc1)C(=O)NC(Cc1ccccc1)C(=O)O<|endoftext|>\n",
            "<|startoftext|>CC(C)(C)NC(=O)C1CC2CCCCC2CN1CC(O)C(Cc1ccccc1)NC(=O)C(CC(N)=O)NC(=O)c1ccc(O)cc1<|endoftext|>\n",
            "<|startoftext|>CC(C)(C)NC(=O)C1CC2CCCCC2CN1CC(O)C(Cc1ccccc1)NC(=O)C(CC(N)=O)NC(=O)c1ccc2ccccc2n1<|endoftext|>\n",
            "<|startoftext\n",
            "====================\n",
            "C(C)NC(=O)C1C2CC(C(=O)NC(Cc3ccccc3)C(=O)O)C(Cc3ccccc3)C(=O)C(CC(N)=O)NC(=O)C(Cc3ccccc3)NC(=O)C(Cc3ccccc3)NC(=O)OC1COC2OCCC12<|endoftext|>\n",
            "<|startoftext|>CC(C)(C)NC(=O)C1CCCC1C(=O)NC(Cc1ccccc1)C(=O)NC(Cc1ccccc1)C(=O)NC(Cc1ccccc1)C(=O)O<|endoftext|>\n",
            "<|startoftext|>O=C(NC1CC2CCC(C1)N2CCc1ccccn1)C1CC2CC(C1)C2C(=O)NC(Cc1ccccc1)C\n",
            "====================\n",
            "Cc1ccc(Con)c1Cc2ccc(OCc3ccccc3)cc1)c1ccccc1<|endoftext|>\n",
            "<|startoftext|>CC(C)(C)NC(=O)C(Cc1ccc(OCc2ccccc2)cc1)N(Cc1ccc(C(=O)NC(Cc2ccccc2)C(=O)O)c1ccc(NC(=O)c2cc(-c3ccccc3)ccc2)cc1)C(C)Cc1ccccc1<|endoftext|>\n",
            "<|startoftext|>CC(C)C(NS(=O)(=O)c1ccccc1)C(=O)NC(CC(N)=O)C(=O)NC(Cc1ccccc1)C(=O)NC(Cc1ccccc1)C(=O)NC(Cc1ccccc1)C(=O)O<|end\n",
            "====================\n",
            "1 -2)Nc1cc(NC(=O)C2CCCCC2C(=O)NC(Cc2ccccc2)C(=O)O)cc1<|endoftext|>\n",
            "<|startoftext|>O=C(NCCc1ccccc1)Nc1ccc(S(N)(=O)=O)cc1<|endoftext|>\n",
            "<|startoftext|>CNC(=O)C(Cc1ccc(O)cc1)C(O)CN(c1ccccc1)c1ccccc1<|endoftext|>\n",
            "<|startoftext|>O=C(Nc1cc(N)c2ccc(Cl)n(C(=O)C(Cc2ccccc2)C(=O)O)cc1)Nc1ccc(F)cc1<|endoftext|>\n",
            "<|startoftext|>Cc1ccc(C(=O)NC(Cc2ccc(C)c(C\n",
            "====================\n",
            "CNC(CC(N)=O)C(Cc1ccc(Cl),cc1)C(=O)NC(Cc1ccccc1)C(=O)NC(Cc1ccccc1)C(=O)O<|endoftext|>\n",
            "<|startoftext|>O=C(NCC1(c2ccccc2)CC1)NC1CC2CC(C1)C2C(=O)NC(Cc1ccccc1)C(=O)NC(Cc1ccccc1)C(=O)O<|endoftext|>\n",
            "<|startoftext|>CC(C)(C)CC(NC(=O)C(Cc1ccccc1)NC(=O)OC1COC2OCCC12)S(=O)(=O)c1ccc(NC(=O)C(O)C(Cc2ccccc2)C(=O)O)cc1<|endoftext|>\n",
            "<|startoftext|>O=C(\n",
            "====================\n",
            "C)C(=O)C(Cc1ccccc1)NC(=O)OC1COC2OCCC12)S(=O)(=O)c1ccc(NC(=O)C(O)C(Cc2ccccc2)C(=O)O)cc1<|endoftext|>\n",
            "<|startoftext|>CC(C)(C)NC(=O)C1CCCCC1C(=O)NC(Cc1ccccc1)C(=O)NC(Cc1ccccc1)C(=O)NC(Cc1ccccc1)C(=O)O<|endoftext|>\n",
            "<|startoftext|>CC(C)C(NS(=O)(=O)c1ccccc1)C(=O)NC(Cc1ccccc1)C(=O)O<|endoftext|>\n",
            "<|startoftext|>CC(C)CC(NS(=O)(=O)c1ccccc1)C(=\n",
            "====================\n",
            "COC(=O)C(Cc1ccccc1)NC(=O)C(Cc1ccccc1)NC(=O)C(Cc1ccccc1)NC(=O)C(Cc1ccccc1)NC(=O)C(Cc1ccccc1)NC(=O)C(Cc1ccccc1)NC(=O)C(N)Cc1ccccc1<|endoftext|>\n",
            "<|startoftext|>O=C(O)C(Cc1ccccc1)NC(=O)C(Cc1ccccc1)NC(=O)C(Cc1ccccc1)NC(=O)C(Cc1ccccc1)NC(=O)C(Cc1ccccc1)NC(=O)C(Cc1ccccc1)NC(=O)C(Cc1ccccc1)NC(=O)OC1COC2OCCC12<|endoftext|>\n",
            "<\n",
            "====================\n",
            "CC(C)(C)C)C(=O)O)cc1C(C)(C)C(O)C(Cc2ccccc2)C(=O)O)cc1<|endoftext|>\n",
            "<|startoftext|>CC(C)(C)CC(=O)N(Cc1ccccc1)C(=O)NCC(O)C(O)C(Cc1ccccc1)C(=O)O<|endoftext|>\n",
            "<|startoftext|>CC(C)(C)CC(=O)N1CCOC2(CCCCC2C(C)(C)C)CC2CCCC2CC2C(=O)NC(Cc2ccccc2)C(=O)NC(Cc2ccccc2)C(=O)O<|endoftext|>\n",
            "<|startoftext|>CC(C)(C)CC(=O)N1CCOC2(CCCC(C3)C1)C2C(=O)NC(Cc\n",
            "====================\n",
            "Cc1ccccc1)N(Cc1ccccc1)CC(O)C(Cc1ccccc1)NC(=O)O<|endoftext|>\n",
            "<|startoftext|>O=C(NCC1CCCC1)COC1CC2CCC(C1)N2CCc1ccc(-c2ccc(C(=O)NC(Cc3ccccc3)C(=O)O)cc2)CC1<|endoftext|>\n",
            "<|startoftext|>CC(=O)N(Cc1ccc(O)cc1)C(=O)NC(CO)C(Cc1ccccc1)C(O)C(O)C(Cc1ccccc1)OC(=O)O<|endoftext|>\n",
            "<|startoftext|>O=C(NCC1CCCC1)c1ccccc1N1CC(O)c1ccc(OCc2ccccc2)cc1<|endoftext|>\n",
            "====================\n",
            "CC1CCCN1CC(O)C(O)C(Cc1ccccc1)NC(=O)C1C2CC(NC(=O)C(Cc1ccccc1)NC(=O)OC1COC2OCCC12)S(=O)(=O)c1ccc(N)cc1<|endoftext|>\n",
            "<|startoftext|>NC(=O)C(Cc1ccccc1)NC(=O)C(Cc1ccc(O)c(O)c1)C(=O)NC1CC2CCC1C(=O)NC(Cc1ccccc1)C(=O)O<|endoftext|>\n",
            "<|startoftext|>CC(C)(C)CC(NC(=O)C(Cc1ccccc1)NC(=O)C(Cc1ccccc1)NC(=O)OC1COC2OCCC12)S(=O)(=O)c1ccc(NC(=O)C\n",
            "====================\n",
            "1/2 oz.\n",
            "\n",
            "Product Details\n",
            "\n",
            "Filled with color that's both elegant and splashy, the Deathnofukun2Fc1ccc(-c2ccc(C(=O)N3CCCC3)ccc23)cc1)c1ccc(N)nc(NCc2ccccc2)n1<|endoftext|>\n",
            "\n",
            "<|startoftext|>CC(C)CN(CC(O)C(Cc1ccccc1)NC(=O)C(Cc1ccccc1)NC(=O)OC1COC2OCCC12)S(=O)(=O)c1ccc(NC(=O)c2ccccc2)cc1<|endoftext|>\n",
            "\n",
            "<|startoftext|>CC(C)CC(NS(=O)(=O)c1ccccc1)C(=O)NC(Cc1ccccc1)C(=O)NCC(Cc1ccccc1)C(=O)NC(Cc1cccc\n",
            "====================\n",
            "Clinic executive director of Friends of Baltimore, Director of Research and Development of the NCCN3,000CC(C)CC(NC(=O)C(Cc2ccccc2)NC(=O)OC(Cc2ccccc2)C(=O)O)C(C)(C)C)CN(Cc1ccccc1)C(=O)C(Cc1ccccc1)NC(=O)OC1COC2OCCC12<|endoftext|>\n",
            "<|startoftext|>O=C(O)C(Cc1ccccc1)NC1CC2CC(C1)C2C(=O)NC(Cc1ccccc1)C(=O)NC(Cc1ccccc1)C(=O)NC(Cc1ccccc1)C(=O)O<|endoftext|>\n",
            "<|startoftext|>O=C(O)C(Cc1ccccc1)NC(=O)C(Cc1ccccc1)\n",
            "====================\n",
            "Caleb O'Connell (CNC(=O)C(Cc1ccccc1)NC(=O)OC1COC2OCCC12)S(=O)(=O)c1ccc(NC(=O)c2ccccc2)cc1<|endoftext|>\n",
            "<|startoftext|>CC(C)(C)NC(=O)C1CC2CCCCC2CN1CC(O)C(Cc1ccccc1)NC(=O)C(CC(N)=O)NC(=O)c1ccc(NC(=O)C(Cc2ccccc2)C(=O)O)cc1<|endoftext|>\n",
            "<|startoftext|>COC(=O)NCCCCN(CC(O)C(Cc1ccccc1)NC(=O)OC1COC2OCCC12)S(=O)(=O)c1ccc(NC(=O)c2ccccc2)cc1<|endoftext|>\n",
            "<|\n",
            "====================\n",
            "Cc1ccccc1)C(=O)NC(Cc1ccccc1)C(=O)NC(Cc1ccccc1)C(=O)NC(Cc1ccccc1)C(=O)O<|endoftext|>\n",
            "<|startoftext|>CC(C)CN(CC(O)C(Cc1ccccc1)NC(=O)C(Cc1ccccc1)NC(=O)OC1COC2OCCC12)S(=O)(=O)c1ccc(NC(=O)C(Cc2ccccc2)C(=O)O)cc1<|endoftext|>\n",
            "<|startoftext|>CC(C)CN(CC(O)C(Cc1ccccc1)NC(=O)C(Cc1ccccc1)NC(=O)OC1COC2OCCC12)S(=O)(=O)c1ccc(NC(=O)C(Cc2ccccc\n",
            "====================\n",
            "Cory)C1CC2CCC(CC(C3)C1)C1C2ccccc21<|endoftext|>\n",
            "<|startoftext|>CC(C)(C)CC(NC(=O)C(Cc1ccccc1)NC(=O)OC1COC2OCCC12)S(=O)(=O)c1ccc(NC(=O)C(Cc2ccccc2)C(=O)NC(Cc2ccccc2)C(=O)O)cc1<|endoftext|>\n",
            "<|startoftext|>CNC(=O)C(Cc1ccccc1)NC(=O)C(Cc1ccccc1)NC(=O)C(Cc1ccccc1)NC(=O)C(Cc1ccccc1)NC(=O)OC1COC2OCCC12<|endoftext|>\n",
            "<|startoftext|>CC(C)(C)C1CC2CCC(C1)C2\n",
            "====================\n",
            "NC(=O)c1ccc(C2CCC(N3CCCC3)CC3CC2)cc1<|endoftext|>\n",
            "<|startoftext|>CC(C)(C)NC(=O)C1CN(Cc2cccc(C(=O)NC(Cc3ccc(Cl)cc3)C(=O)O)CC1C2<|endoftext|>\n",
            "<|startoftext|>O=C(Cc1ccccc1)OC(Oc1ccc(Cl)cc1)C1CC2CC(C1)C2C(=O)NC(Cc1ccccc1)C(=O)NC(Cc1ccccc1)C(=O)O<|endoftext|>\n",
            "<|startoftext|>CC(C)(C)NC(=O)C1CCCN1C(=O)C(Cc1ccccc1)NC(=O)C(Cc1ccccc1)NC(=O)OC1COC2\n",
            "====================\n",
            "CNC(=O)C(Cc1ccccc1)NC(=O)C(CC(N)=O)NC(=O)C(Cc1ccccc1)NC(=O)OC1COC2OCCC12<|endoftext|>\n",
            "<|startoftext|>CC(C)C(=O)Nc1ccccc1C(=O)N(Cc1ccccc1)C(=O)N(CC(N)=O)C(=O)NC(Cc1ccccc1)C(=O)NC(Cc1ccccc1)C(=O)O<|endoftext|>\n",
            "<|startoftext|>CC(C)C(NS(=O)(=O)c1ccccc1)C(O)C(Cc1ccccc1)NC(=O)OC1COC2OCCC12<|endoftext|>\n",
            "<|startoftext|>CC(C)C(NS(=O)(=O)c1ccccc1\n",
            "====================\n",
            "Scenario 1)Under God, our lives are happy and connected.\n",
            "Scenario 2)Scenario 3)Scenario 4)Scenario 5)Scenario 6)N1CCN(C(=O)C(Cc2ccccc2)C(=O)NC(Cc2ccccc2)C(=O)O)CC1C(=O)NC(Cc1ccccc1)C(=O)O<|endoftext|>\n",
            "<|startoftext|>CC(C)(C)CC(=O)N1CCOC2CC(C(=O)NC(Cc2ccccc2)C(=O)O)CC2CC(C)C(O)C(Cc2ccccc2)NC(=O)OC1COC2OCCC12<|endoftext|>\n",
            "<|startoftext|>CC(C)(C)CC(=O)N1CCOC2CC(C(=O)NC(Cc2ccccc2)C(=O)O)C2CC(O)C\n",
            "====================\n",
            "Oc1ccc(Oc2nn(CC(Cc3ccccc3)NC(=O)C(Cc3ccccc3)C(=O)O)cc1<|endoftext|>\n",
            "<|startoftext|>CC(C)CN(CC(O)C(Cc1ccccc1)NC(=O)C(Cc1ccccc1)NC(=O)OC1COC2OCCC12)S(=O)(=O)c1ccc(N)cc1<|endoftext|>\n",
            "<|startoftext|>CC(C)(C)CC(=O)N1CCOCC1C(=O)NC(Cc1ccccc1)C(=O)NC(Cc1ccccc1)C(=O)NC(Cc1ccccc1)C(=O)O<|endoftext|>\n",
            "<|startoftext|>CC(C)(C)CC(NC(=O)C(Cc1ccccc1)NC(=\n",
            "====================\n",
            "COCO3COC1COC2OCCC12)S(=O)(=O)c1ccc(NC(=O)c2ccccc2)cc1<|endoftext|>\n",
            "<|startoftext|>CC(C)(C)CC(NC(=O)C(Cc1ccccc1)NC(=O)C(Cc1ccccc1)NC(=O)OC1COC2OCCC12)S(=O)(=O)c1ccc(NC(=O)C(Cc2ccccc2)C(=O)O)cc1<|endoftext|>\n",
            "<|startoftext|>O=C(O)C(Cc1ccccc1)NC(=O)C(Cc1ccccc1)NC(=O)C1C2CC(NC(=O)C(Cc3ccccc3)C(=O)O)CC21<|endoftext|>\n",
            "<|startoftext|>CC(C)(C)NC(=\n",
            "====================\n",
            "CC(C)(C)C(=O)NC(Cc1ccccc1)C(=O)NC(Cc1ccccc1)C(=O)NC(Cc1ccccc1)C(=O)NC(Cc1ccccc1)C(=O)O)CC(Cc1ccccc1)C(=O)NC(Cc1ccccc1)C(=O)O<|endoftext|>\n",
            "<|startoftext|>CCC(=O)NCCNC(=O)Cc1ccccc1C(=O)NC(Cc1ccccc1)C(=O)NC(Cc1ccccc1)C(=O)NC(Cc1ccccc1)C(=O)NC(Cc1ccccc1)C(=O)O<|endoftext|>\n",
            "<|startoftext|>CC(C)(C)CC(NC(=O)C(Cc1ccccc1)NC(=O)C(C\n",
            "====================\n",
            "c2ccc(N(C)c3ccc(Br)c(F)c2)cc2<|endoftext|>\n",
            "<|startoftext|>NC(=O)C1CCCCC1C(=O)NC(Cc1ccccc1)(C(=O)NC(Cc1ccccc1)c1ccccc1)C(=O)NC(Cc1ccccc1)C(=O)NC(Cc1ccccc1)C(=O)O<|endoftext|>\n",
            "<|startoftext|>O=C(O)C(Cc1ccccc1)NC(=O)C(Cc1ccccc1)NC(=O)C(Cc1ccccc1)NC(=O)C(Cc1ccccc1)NC(=O)C(CC(N)=O)NC(=O)C(Cc1ccccc1)NC(=O)C(Cc1c[nH]c2ccccc12)NC\n",
            "====================\n",
            "|<|startoftext|>CC(=O)NCCCNC(=O)C(Cc1ccccc1)NC(COc1ccccc1)C(=O)NC(Cc1ccccc1)C(=O)NC(Cc1ccccc1)C(=O)O<|endoftext|>\n",
            "<|startoftext|>CC(C)(C)NC(=O)C1CC2CCC(CC1C(=O)NC(Cc1ccccc1)C(=O)OC1COC2OCCC12)S(=O)(=O)c1ccccc1<|endoftext|>\n",
            "<|startoftext|>CC(C)(C)CC(NC(=O)C(Cc1ccccc1)NC(=O)C(Cc1ccccc1)NC(=O)OC1COC2OCCC12)S(=O)(=O)c1ccc(NC(=O)C(Cc2ccccc2)C(\n",
            "====================\n",
            "Cc1ccc(NC(=O)C(Cc2ccccc2)Cc2ccccc2)cc1<|endoftext|>\n",
            "<|startoftext|>CC(C)(C)NC(=O)C(Cc1ccccc1)NC(=O)C(Cc1ccccc1)NC(=O)C(Cc1ccccc1)NC(=O)OC1COC2OCCC12<|endoftext|>\n",
            "<|startoftext|>CC1CCCC1C(=O)NC(Cc1ccccc1)C(=O)NC(Cc1ccccc1)C(=O)NC(Cc1ccccc1)C(=O)NC(Cc1ccccc1)C(=O)O<|endoftext|>\n",
            "<|startoftext|>O=C(O)C(Cc1ccccc1)NC(=O)C(Cc1ccccc1)NC(=O)C(C\n",
            "====================\n",
            "text|>\n",
            "<|startoftext|>C(C)C(NS(=O)(=O)c1ccc(C(F)(F)F)cc1)C(=O)NC(C)(C)C<|endoftext|>\n",
            "<|startoftext|>Cc1ccc(C(Cc2ccccc2)C(=O)O)cc1<|endoftext|>\n",
            "<|startoftext|>O=C(NCC1(c2ccccc2)CC1)NC1CC2CCC(C1)N2CCc1ccc(-c2ccccc2)cc1<|endoftext|>\n",
            "<|startoftext|>Cc1ccc(C(Cc2cccc(C(F)(F)F)n3c2ccccc2)NC(=O)c2ccc(OC)cc2)cc1<|endoftext|>\n",
            "<|startoftext|>CC(C)(C)C(=O)NCC(O)C(Cc\n",
            "====================\n",
            "PC1CCCC1C(=O)OC1COC2OCCC12<|endoftext|>\n",
            "<|startoftext|>O=C(NCC1CCCC1)NCC1CCCC1C(=O)NCC(O)C(Cc2ccccc2)C(=O)O<|endoftext|>\n",
            "<|startoftext|>COCC(c1ccccc1)C(=O)N(Cc1ccccc1)C(=O)O1C(O)CCCC1(C)C<|endoftext|>\n",
            "<|startoftext|>O=C(NC(Cc1ccccc1)C(F)(F)F)NCCc1ccc(O)c(O)c1O<|endoftext|>\n",
            "<|startoftext|>COc1ccc(NC(=O)C(Cc2ccccc2)C(F)(F)F)cc1O<|endoftext|>\n",
            "<|startoftext|>C\n",
            "====================\n",
            "c1ccc(N2CCCC2(C)C(=O)NCC(C(=O)O)C(=O)NC(C)C(=O)O)cc2ccccc2)c1<|endoftext|>\n",
            "<|startoftext|>CC(C)NC(=O)C1CCCC1C(=O)NC(Cc1ccccc1)C(=O)NC(Cc1ccccc1)C(=O)NC(Cc1ccccc1)C(=O)O<|endoftext|>\n",
            "<|startoftext|>CC(C)C(NC(=O)C(Cc1ccccc1)NC(=O)C(Cc1ccccc1)NC(=O)OC1COC2OCCC12)S(=O)(=O)c1ccc2nc(NC3CCN(C4CCCC4)CC4)sc2c1<|endoftext|>\n",
            "<|startoftext|>CC(C)(\n",
            "====================\n",
            "Cc1ccc(C(=O)NC(C(=O)C(O)C(C)C)C(=O)O)cc1<|endoftext|>\n",
            "<|startoftext|>CC(C)C(NS(=O)(=O)c1ccccc1)C(=O)NC(Cc1ccccc1)C(=O)NC(Cc1ccccc1)C(=O)O<|endoftext|>\n",
            "<|startoftext|>CC(C)(C)NC(=O)C1CC2CC(C1)C2C(=O)NC(Cc1ccccc1)C(=O)O<|endoftext|>\n",
            "<|startoftext|>Cc1ccc(CNC(=O)c2ccc(C(F)(F)F)cn2)c1OCC(=O)NC(Cc1ccccc1)C(=O)O<|endoftext|>\n",
            "<|startoftext|>CC\n",
            "====================\n",
            "C#Cc1ccccc1 <|endoftext|>\n",
            "<|startoftext|>CC(C)(C)CC(=O)C(CC(=O)Nc1ccccc1)NC(=O)OC1COC2OCCC12<|endoftext|>\n",
            "<|startoftext|>CC(C)(C)NC(=O)C1CC2CCCCC2CN1CC(O)C(Cc1ccccc1)NC(=O)C(CC(N)=O)NC(=O)C(CC(N)=O)NC(=O)c1ccccc1<|endoftext|>\n",
            "<|startoftext|>CC(C)(C)NC(=O)C1CC2CCCCC2CN1CC(O)C(Cc1ccccc1)NC(=O)C(CC(N)=O)NC(=O)c1ccc(O)c(O)c1<|endoftext|>\n",
            "<|startoftext|>CC(C)CN(\n",
            "====================\n",
            "text|>Cc1ccccc1C(=O)NC(Cc1ccccc1)C(=O)NC(Cc1ccccc1)C(=O)NC(Cc1ccccc1)C(=O)O<|endoftext|>\n",
            "<|startoftext|>COc1ccc(C(C)(C)C)cc1C(=O)NC(Cc1ccccc1)C(=O)NC(Cc1ccccc1)C(=O)NC(Cc1ccccc1)C(=O)O<|endoftext|>\n",
            "<|startoftext|>CCc1ccc(C(O)CN(Cc2ccc(-c3ccccc3)cc2)C(=O)NC(Cc2ccc(N)cc2)c2)cc1<|endoftext|>\n",
            "<|startoftext|>CC(C)(C)CC(NC(=O)C(Cc1ccccc1)NC(=\n",
            "====================\n",
            "1Cl(C(=O)Nc3ccccc3)NC(=O)c3ccc(C(C)(C)C)cc2)c1<|endoftext|>\n",
            "<|startoftext|>CN(C)C(=O)CC(Cc1ccccc1)N(Cc1ccccc1)C(=O)NC(Cc1ccccc1)C(=O)NC(Cc1ccccc1)C(=O)O<|endoftext|>\n",
            "<|startoftext|>CCC(=O)N1CCC(C(=O)c2ccccc2)CC1C(=O)NC(Cc1ccccc1)C(=O)NC(Cc1ccccc1)C(=O)O<|endoftext|>\n",
            "<|startoftext|>CC(C)(C)CC(NC(=O)C(Cc1ccccc1)NC(=O)C(Cc1ccccc1)NC(=O\n",
            "====================\n",
            "COCOCCOCCCNC(=O)C1CC2CCCCC2CCC1C(=O)NC(Cc1ccccc1)C(=O)NC(Cc1ccccc1)C(=O)O<|endoftext|>\n",
            "<|startoftext|>CC(C)(C)NC(=O)C1CC2CCC(CC1C(=O)NC(Cc1ccccc1)C(=O)NC(Cc1ccccc1)C(=O)O)C2CC(O)C(Cc1ccccc1)NC(=O)C(CC(N)=O)NC(=O)c1ccccc1<|endoftext|>\n",
            "<|startoftext|>CC(C)CN(CC(O)C(Cc1ccccc1)NC(=O)OC1COC2OCCC12)S(=O)(=O)c1ccc(NC(=O)C(O)C(Cc2ccccc2)C(\n",
            "====================\n",
            "Nc1ccc(NC(=O)C(Cc2cccnc2)c2ccccc2)c1<|endoftext|>\n",
            "<|startoftext|>Cc1cc(C(=O)N2CCCCNC(=O)C(Cc2ccccc2)C(=O)O)cc(Cc2ccccc2)c1<|endoftext|>\n",
            "<|startoftext|>Cc1ccccc1CNC(=O)C(Cc1ccccc1C)NC(=O)C(Cc1ccccc1)NC(=O)C(Cc1ccccc1)NC(=O)C(Cc1ccccc1)NC(=O)C(Cc1ccccc1)NC(=O)C(Cc1ccccc1)NC(=O)C(Cc1ccccc1)NC(=O)C(Cc1ccccc1)NC(=O)C(Cc1ccccc\n",
            "====================\n",
            "1) COC(c1ccc(-c2ccccn2)cc1)NC(=O)c1ccc(Cl)cc1)N(Cc1ccccc1)CC1CCC1(c1ccccc1)CCCC1<|endoftext|>\n",
            "<|startoftext|>O=C(NC(Cc1ccccc1)C(=O)NC(Cc1ccccc1)C(=O)NC(Cc1ccccc1)C(=O)O)C1CC2CC(C1)C2C(=O)O<|endoftext|>\n",
            "<|startoftext|>CC(C)C(NS(=O)(=O)c1ccccc1)C(=O)NC(Cc1ccccc1)C(=O)NC(Cc1ccccc1)C(=O)NC(Cc1ccccc1)C(=O)O<|endoftext|>\n",
            "<|startoftext|>O=C(NC\n",
            "====================\n",
            "Cc1ccccc1)NC(=O)C(Cc1ccccc1)NC(=O)C(CC(N)=O)NC(=O)c1ccccc1)C(=O)C(Cc1ccccc1)NC(=O)OC1COC2(O)CC(C(=O)O)C(C)(C)C(C)C)C2<|endoftext|>\n",
            "<|startoftext|>CC(C)CN(CC(O)C(Cc1ccccc1)NC(=O)OC1COC2OCCC12)S(=O)(=O)c1ccc(NC(=O)C(O)C(O)C(C)(C)C)cc1<|endoftext|>\n",
            "<|startoftext|>CC(C)(C)OC(=O)N1CCOC2CCC2CC(C1)C2C(=O)NC(C(=O)O)C(C)(C)C(O)C(\n",
            "====================\n",
            "Oc1c1c(O)c(O)c1Oc1ccc(-c2ccccc2)cc1<|endoftext|>\n",
            "<|startoftext|>Cc1ccnc(Nc2ccccc2)c1Oc1ccc(O)c(O)c1<|endoftext|>\n",
            "<|startoftext|>Cc1ccc(C(=O)C(C)C)c1C(=O)O<|endoftext|>\n",
            "<|startoftext|>COc1ccc(C(=O)c2ccccc2CCN2CCCC2)cc1<|endoftext|>\n",
            "<|startoftext|>Oc1ccc(CNc2ccc(C(F)(F)F)cn2)cc1<|endoftext|>\n",
            "<|startoftext|>CCc1cc(C(=O)Nc2ccc(C)c(Cl)c2)ccn1<|endoftext|>\n",
            "<|start\n",
            "====================\n",
            "C#ATCCN#c1ccc(C#CC2(C)(C)C)cc1<|endoftext|>\n",
            "<|startoftext|>Cc1ccc(C#NCCNC(=O)C(Cc2ccccc2)c2ccccc2)cc1<|endoftext|>\n",
            "<|startoftext|>Cc1cccc(C#N)c1Cc1ccc(O)c(C)c1<|endoftext|>\n",
            "<|startoftext|>CC(C)C(NS(=O)(=O)c1ccccc1)C(=O)NC(c1ccccc1)C(=O)NC(c1ccccc1)C(=O)NC(CC(N)=O)C(=O)NC(CC(N)=O)C(=O)NC(Cc1ccccc1)C(=O)NC(Cc1ccccc1)C(=O)O<|endoftext|>\n",
            "<|\n",
            "====================\n",
            "NCC(O)C(Cc1ccccc1)NC(=O)C(Cc1ccccc1)NC(=O)C(Cc1ccccc1)NC(=O)C(CC(N)=O)NC(=O)C(Cc1ccccc1)NC(=O)C(Cc1ccccc1)NC(=O)C(Cc1ccccc1)NC(=O)C(Cc1ccccc1)NC(=O)OC1COC2OCCC12)C(=O)NC(Cc1ccccc1)C(=O)NC(Cc1ccccc1)C(=O)O<|endoftext|>\n",
            "<|startoftext|>CC(C)(C)NC(=O)C(Cc1ccccc1)NC(=O)C(Cc1ccccc1)NC(=O)C(Cc1ccccc1)NC(=O)C(Cc1ccccc1)NC\n",
            "====================\n"
          ],
          "name": "stdout"
        }
      ]
    },
    {
      "cell_type": "code",
      "metadata": {
        "id": "kT7QiapiTMkt",
        "colab_type": "code",
        "colab": {}
      },
      "source": [
        ""
      ],
      "execution_count": 0,
      "outputs": []
    },
    {
      "cell_type": "code",
      "metadata": {
        "id": "EkayYDvqSnmP",
        "colab_type": "code",
        "colab": {}
      },
      "source": [
        ""
      ],
      "execution_count": 0,
      "outputs": []
    },
    {
      "cell_type": "code",
      "metadata": {
        "id": "KUz9LB4CSnob",
        "colab_type": "code",
        "colab": {}
      },
      "source": [
        ""
      ],
      "execution_count": 0,
      "outputs": []
    }
  ]
}